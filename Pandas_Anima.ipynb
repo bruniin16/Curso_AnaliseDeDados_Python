{
 "cells": [
  {
   "attachments": {},
   "cell_type": "markdown",
   "metadata": {},
   "source": [
    "**Análise de dados realizada no Curso de Análise de Dados com Pandas da Ânima.**"
   ]
  },
  {
   "cell_type": "code",
   "execution_count": null,
   "metadata": {},
   "outputs": [],
   "source": [
    "import pandas as pd\n",
    "\n",
    "df = pd.read_excel(\"gas_novembro_df.xlsx\")"
   ]
  },
  {
   "cell_type": "code",
   "execution_count": null,
   "metadata": {},
   "outputs": [],
   "source": [
    "#Exibindo informações do DataFrame\n",
    "display(df.shape)\n",
    "display(df.describe())\n",
    "print(df.info())"
   ]
  },
  {
   "cell_type": "code",
   "execution_count": 1,
   "metadata": {},
   "outputs": [
    {
     "ename": "NameError",
     "evalue": "name 'df' is not defined",
     "output_type": "error",
     "traceback": [
      "\u001b[1;31m---------------------------------------------------------------------------\u001b[0m",
      "\u001b[1;31mNameError\u001b[0m                                 Traceback (most recent call last)",
      "Cell \u001b[1;32mIn[1], line 2\u001b[0m\n\u001b[0;32m      1\u001b[0m \u001b[39m#Filtrando algumas colunas e salvando em outro DF\u001b[39;00m\n\u001b[1;32m----> 2\u001b[0m produtos_df \u001b[39m=\u001b[39m df[[\u001b[39m\"\u001b[39m\u001b[39mRevenda\u001b[39m\u001b[39m\"\u001b[39m, \u001b[39m\"\u001b[39m\u001b[39mMunicipio\u001b[39m\u001b[39m\"\u001b[39m, \u001b[39m\"\u001b[39m\u001b[39mProduto\u001b[39m\u001b[39m\"\u001b[39m, \u001b[39m\"\u001b[39m\u001b[39mValor de Venda\u001b[39m\u001b[39m\"\u001b[39m]] \n\u001b[0;32m      3\u001b[0m display(produtos_df)\n",
      "\u001b[1;31mNameError\u001b[0m: name 'df' is not defined"
     ]
    }
   ],
   "source": [
    "#Filtrando algumas colunas e salvando em outro DF\n",
    "produtos_df = df[[\"Revenda\", \"Municipio\", \"Produto\", \"Valor de Venda\"]] \n",
    "display(produtos_df)"
   ]
  },
  {
   "cell_type": "code",
   "execution_count": null,
   "metadata": {},
   "outputs": [],
   "source": [
    "#Exibindo uma linha específica (.loc ou .iloc)\n",
    "display(produtos_df.loc[4])"
   ]
  },
  {
   "cell_type": "code",
   "execution_count": null,
   "metadata": {},
   "outputs": [],
   "source": [
    "#Exibindo intervalo de linhas\n",
    "display(produtos_df.loc[4:9])"
   ]
  },
  {
   "cell_type": "code",
   "execution_count": null,
   "metadata": {},
   "outputs": [],
   "source": [
    "#Filtrando linhas com Gasolina em um novo DF\n",
    "gas_df = produtos_df.loc[produtos_df[\"Produto\"] == \"GASOLINA\"]\n",
    "display(gas_df)"
   ]
  },
  {
   "cell_type": "code",
   "execution_count": null,
   "metadata": {},
   "outputs": [],
   "source": [
    "#Exibindo o posto com gasolina mais cara\n",
    "display(gas_df[[\"Revenda\", \"Municipio\", \"Valor de Venda\"]].max())"
   ]
  },
  {
   "cell_type": "code",
   "execution_count": null,
   "metadata": {},
   "outputs": [],
   "source": [
    "#.loc com várias condições\n",
    "#Descobrindo os preços e postos que vendem Etanol em Recife e ordenando de forma decrescente\n",
    "#usar o \"inplace=True\" para salvar a ordenação no DataFrame\n",
    "etanol_rec_df = produtos_df.loc[(produtos_df[\"Produto\"] == \"ETANOL\") & (produtos_df[\"Municipio\"] == \"RECIFE\")]\n",
    "display(etanol_rec_df.sort_values(by=\"Valor de Venda\", ascending=False))"
   ]
  },
  {
   "cell_type": "code",
   "execution_count": null,
   "metadata": {},
   "outputs": [],
   "source": [
    "#Média dos preços da GASOLINA e da GASOLINA ADITIVADA do Bairro MOOCA em SÃO PAULO\n",
    "\n",
    "display(df.loc[(df[\"Bairro\"] == \"MOOCA\") & \n",
    "(df[\"Municipio\"] == \"SAO PAULO\") & \n",
    "((df[\"Produto\"] == \"GASOLINA\") | (df[\"Produto\"] == \"GASOLINA ADITIVADA\")), \n",
    "[\"Valor de Venda\"]].mean().round(2))\n"
   ]
  },
  {
   "cell_type": "code",
   "execution_count": null,
   "metadata": {},
   "outputs": [],
   "source": [
    "#Média dos preços da GASOLINA e da GASOLINA ADITIVADA do Bairro MOOCA em SÃO PAULO utilizando .isin()\n",
    "\n",
    "display(df.loc[(df[\"Bairro\"] == \"MOOCA\") & \n",
    "(df[\"Municipio\"] == \"SAO PAULO\") & \n",
    "(df[\"Produto\"].isin([\"GASOLINA\", \"GASOLINA ADITIVADA\"])), \n",
    "[\"Valor de Venda\"]].mean().round(2))"
   ]
  },
  {
   "cell_type": "code",
   "execution_count": null,
   "metadata": {},
   "outputs": [],
   "source": [
    "#Média dos preços por COMBUSTÍVEL\n",
    "display(produtos_df[[\"Produto\", \"Valor de Venda\"]].groupby(by=\"Produto\").mean().round(2))"
   ]
  },
  {
   "cell_type": "code",
   "execution_count": null,
   "metadata": {},
   "outputs": [],
   "source": [
    "#Adicionando coluna na DF original \"Ativo\" com valor booleano. Padrão True para todas as linhas.\n",
    "df[\"Ativo\"] = True\n",
    "display(df.info())"
   ]
  },
  {
   "cell_type": "code",
   "execution_count": null,
   "metadata": {},
   "outputs": [],
   "source": [
    "#Criando uma coluna \"Obs\" extra preenchendo \"Melhor Cidade\" quando for no Município de RECIFE, PE.\n",
    "df[\"Obs.\"] = [\"MELHOR CIDADE\" if munc == \"RECIFE\" else \"\" for munc in df[\"Municipio\"]]\n",
    "display(df.loc[df[\"Municipio\"] == \"RECIFE\"])"
   ]
  },
  {
   "cell_type": "code",
   "execution_count": null,
   "metadata": {},
   "outputs": [],
   "source": [
    "#Exportar para Excel o DF com ETANOL em RECIFE\n",
    "etanol_rec_df.to_excel(\"Etanol_Recife.xlsx\", sheet_name=\"Etanol em Recife\", index=False)"
   ]
  },
  {
   "attachments": {},
   "cell_type": "markdown",
   "metadata": {},
   "source": [
    "ANÁLISES EXTRAS"
   ]
  },
  {
   "cell_type": "code",
   "execution_count": null,
   "metadata": {},
   "outputs": [],
   "source": [
    "#Encontrando apenas o preço mais alto entre todos os produtos\n",
    "display(df.describe().iloc[7][0])"
   ]
  },
  {
   "cell_type": "code",
   "execution_count": null,
   "metadata": {},
   "outputs": [],
   "source": [
    "#Filtrando as linhas com preço mais alto\n",
    "display(df.loc[df[\"Valor de Venda\"] == df.describe().iloc[7][0]])"
   ]
  },
  {
   "cell_type": "code",
   "execution_count": null,
   "metadata": {},
   "outputs": [],
   "source": [
    "#Filtrando as linhas com preço mais alto usando .max()\n",
    "display(df[\"Valor de Venda\"].max())\n",
    "display(df.loc[df[\"Valor de Venda\"] == df[\"Valor de Venda\"].max()])"
   ]
  },
  {
   "cell_type": "code",
   "execution_count": null,
   "metadata": {},
   "outputs": [],
   "source": [
    "#Removendo a Coluna \"Valor de Compra\" por estar com valor NaN e salvando em outro DF\n",
    "df_2 = df.drop([\"Valor de Compra\"], axis=1)\n",
    "display(df_2.head())"
   ]
  }
 ],
 "metadata": {
  "kernelspec": {
   "display_name": "Python 3",
   "language": "python",
   "name": "python3"
  },
  "language_info": {
   "codemirror_mode": {
    "name": "ipython",
    "version": 3
   },
   "file_extension": ".py",
   "mimetype": "text/x-python",
   "name": "python",
   "nbconvert_exporter": "python",
   "pygments_lexer": "ipython3",
   "version": "3.11.1"
  },
  "orig_nbformat": 4,
  "vscode": {
   "interpreter": {
    "hash": "53dd1628369cdd05e878fd6485b388de34e4a7c0330a8f2d09275b55a4f840cd"
   }
  }
 },
 "nbformat": 4,
 "nbformat_minor": 2
}
