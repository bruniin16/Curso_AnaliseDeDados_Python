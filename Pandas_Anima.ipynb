{
 "cells": [
  {
   "cell_type": "code",
   "execution_count": null,
   "metadata": {},
   "outputs": [],
   "source": [
    "import pandas as pd\n",
    "\n",
    "df = pd.read_excel(\"gas_novembro_df.xlsx\")"
   ]
  },
  {
   "cell_type": "code",
   "execution_count": null,
   "metadata": {},
   "outputs": [],
   "source": [
    "#Exibindo informações do DataFrame\n",
    "display(df.shape)\n",
    "display(df.describe())\n",
    "print(df.info())"
   ]
  },
  {
   "cell_type": "code",
   "execution_count": null,
   "metadata": {},
   "outputs": [],
   "source": [
    "#Filtrando algumas colunas e salvando em outro DF\n",
    "produtos_df = df[[\"Revenda\", \"Municipio\", \"Produto\", \"Valor de Venda\"]] \n",
    "display(produtos_df)"
   ]
  },
  {
   "cell_type": "code",
   "execution_count": null,
   "metadata": {},
   "outputs": [],
   "source": [
    "#Exibindo uma linha específica (.loc ou .iloc)\n",
    "display(produtos_df.loc[4])"
   ]
  },
  {
   "cell_type": "code",
   "execution_count": null,
   "metadata": {},
   "outputs": [],
   "source": [
    "#Exibindo intervalo de linhas\n",
    "display(produtos_df.loc[4:9])"
   ]
  },
  {
   "cell_type": "code",
   "execution_count": null,
   "metadata": {},
   "outputs": [],
   "source": [
    "#Filtrando linhas com Gasolina em um novo DF\n",
    "gas_df = produtos_df.loc[produtos_df[\"Produto\"] == \"GASOLINA\"]\n",
    "display(gas_df)"
   ]
  },
  {
   "cell_type": "code",
   "execution_count": null,
   "metadata": {},
   "outputs": [],
   "source": [
    "#Exibindo o posto com gasolina mais cara\n",
    "display(gas_df[[\"Revenda\", \"Municipio\", \"Valor de Venda\"]].max())"
   ]
  },
  {
   "attachments": {},
   "cell_type": "markdown",
   "metadata": {},
   "source": [
    "ANÁLISES EXTRAS |\n",
    "                V"
   ]
  },
  {
   "cell_type": "code",
   "execution_count": null,
   "metadata": {},
   "outputs": [],
   "source": [
    "#Encontrando apenas o preço mais alto entre todos os produtos\n",
    "display(df.describe().iloc[7][0])"
   ]
  },
  {
   "cell_type": "code",
   "execution_count": null,
   "metadata": {},
   "outputs": [],
   "source": [
    "#Filtrando as linhas com preço mais alto\n",
    "display(df.loc[df[\"Valor de Venda\"] == df.describe().iloc[7][0]])"
   ]
  },
  {
   "cell_type": "code",
   "execution_count": null,
   "metadata": {},
   "outputs": [],
   "source": [
    "#Filtrando as linhas com preço mais alto usando .max()\n",
    "display(df[\"Valor de Venda\"].max())\n",
    "display(df.loc[df[\"Valor de Venda\"] == df[\"Valor de Venda\"].max()])"
   ]
  },
  {
   "cell_type": "code",
   "execution_count": null,
   "metadata": {},
   "outputs": [],
   "source": [
    "#Removendo a Coluna \"Valor de Compra\" por estar com valor NaN e salvando em outro DF\n",
    "df_2 = df.drop([\"Valor de Compra\"], axis=1)\n",
    "display(df_2.head())"
   ]
  }
 ],
 "metadata": {
  "kernelspec": {
   "display_name": "Python 3",
   "language": "python",
   "name": "python3"
  },
  "language_info": {
   "codemirror_mode": {
    "name": "ipython",
    "version": 3
   },
   "file_extension": ".py",
   "mimetype": "text/x-python",
   "name": "python",
   "nbconvert_exporter": "python",
   "pygments_lexer": "ipython3",
   "version": "3.11.1"
  },
  "orig_nbformat": 4,
  "vscode": {
   "interpreter": {
    "hash": "53dd1628369cdd05e878fd6485b388de34e4a7c0330a8f2d09275b55a4f840cd"
   }
  }
 },
 "nbformat": 4,
 "nbformat_minor": 2
}
